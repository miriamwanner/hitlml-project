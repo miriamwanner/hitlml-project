{
 "cells": [
  {
   "cell_type": "markdown",
   "metadata": {},
   "source": [
    "# Human-in-the-Loop Machine Learning: Final Project"
   ]
  },
  {
   "cell_type": "code",
   "execution_count": 1,
   "metadata": {},
   "outputs": [],
   "source": [
    "# imports\n",
    "import datasets\n",
    "from openai import OpenAI\n",
    "import os\n",
    "from tqdm import tqdm\n",
    "import matplotlib.pyplot as plt\n",
    "import numpy as np\n",
    "import pandas as pd\n",
    "\n",
    "from data_utils import openai_iter_generation, get_demographic_system_prompt, get_annotator_demographic_dict, get_majority_vote, get_ds_format\n",
    "from data_info import comment_annotations\n",
    "from dawid_skene import run"
   ]
  },
  {
   "cell_type": "markdown",
   "metadata": {},
   "source": [
    "### 1. Loading the dataset from huggingface"
   ]
  },
  {
   "cell_type": "code",
   "execution_count": 2,
   "metadata": {},
   "outputs": [],
   "source": [
    "# !pip install datasets"
   ]
  },
  {
   "cell_type": "code",
   "execution_count": 3,
   "metadata": {},
   "outputs": [],
   "source": [
    "dataset = datasets.load_dataset('ucberkeley-dlab/measuring-hate-speech', 'default') "
   ]
  },
  {
   "cell_type": "code",
   "execution_count": 4,
   "metadata": {},
   "outputs": [],
   "source": [
    "# dataset['train'][0]"
   ]
  },
  {
   "cell_type": "markdown",
   "metadata": {},
   "source": [
    "### 2. OpenAI API Setup and Test"
   ]
  },
  {
   "cell_type": "code",
   "execution_count": 5,
   "metadata": {},
   "outputs": [],
   "source": [
    "## Set the API key and model name\n",
    "# api_key = open(\"openai_api_key.txt\", 'r').read() # API key needs to be in this txt file\n",
    "# MODEL=\"gpt-4o-mini\"\n",
    "# client = OpenAI(api_key=os.environ.get(\"OPENAI_API_KEY\", api_key))"
   ]
  },
  {
   "cell_type": "code",
   "execution_count": 6,
   "metadata": {},
   "outputs": [],
   "source": [
    "# completion = client.chat.completions.create(\n",
    "#   model=MODEL,\n",
    "#   messages=[\n",
    "#     {\"role\": \"system\", \"content\": \"You are a helpful assistant. Help me with my math homework!\"}, # <-- This is the system message that provides context to the model\n",
    "#     {\"role\": \"user\", \"content\": \"Hello! Could you solve 2+2?\"}  # <-- This is the user message for which the model will generate a response\n",
    "#   ]\n",
    "# )\n",
    "\n",
    "# print(\"Assistant: \" + completion.choices[0].message.content)\n",
    "# print(completion.choices[0].message)"
   ]
  },
  {
   "cell_type": "markdown",
   "metadata": {},
   "source": [
    "### 3. Dataset filtering"
   ]
  },
  {
   "cell_type": "markdown",
   "metadata": {},
   "source": [
    "Here is code for sorting data by comment id, where the most annotated comments are sorted first."
   ]
  },
  {
   "cell_type": "code",
   "execution_count": 7,
   "metadata": {},
   "outputs": [],
   "source": [
    "# # filtering the data to the top annotated comments; filters down to about 1/4 of the original dataset\n",
    "# # first get the number of times a comment was annotated\n",
    "# comment_ids_annotated = {} # in format {comment_id: #times annotated}\n",
    "# for instance in tqdm(dataset['train']):\n",
    "#     if instance['comment_id'] not in comment_ids_annotated:\n",
    "#         comment_ids_annotated[instance['comment_id']] = 0\n",
    "#     comment_ids_annotated[instance['comment_id']] += 1\n",
    "# # then sort the comments in reverse order\n",
    "# sorted_comment_ids = sorted(comment_ids_annotated.items(), key=lambda item: item[1], reverse=True)"
   ]
  },
  {
   "cell_type": "code",
   "execution_count": 8,
   "metadata": {},
   "outputs": [],
   "source": [
    "# from comment_annotator_ids import comment_ids_annotated"
   ]
  },
  {
   "cell_type": "markdown",
   "metadata": {},
   "source": [
    "If we wanted the 50 most annotated comments"
   ]
  },
  {
   "cell_type": "code",
   "execution_count": 9,
   "metadata": {},
   "outputs": [],
   "source": [
    "# # then get just the comment_ids of the top 50 annotated comments\n",
    "# top_annotated_50 = []\n",
    "# for i in range(50):\n",
    "#     top_annotated_50.append(sorted_comment_ids[i][0])\n",
    "\n",
    "# previous part was already calculated and these are the top comment_ids\n",
    "# top_annotated_50 = [20011, 20002, 20001, 20007, 20022, 20014, 20034, 20047, 20068, 20009, 20057, 20010, 20069, 20003, 20017, 20023, 20016, 20060, 20019, 20018, 20020, 20012, 20045, 20021, 20006, 20053, 20004, 20013, 20055, 20064, 20052, 20024, 20059, 20066, 20008, 20056, 20067, 20063, 20062, 20061, 20015, 20049, 20048, 20005, 20065, 20070, 20058, 20054, 20035, 20039]\n",
    "# top50_dataset = dataset.filter(lambda instance: instance['comment_id'] in top_annotated_50)\n",
    "# original dataset has 135556 instances and filtered dataset has 35935 instances"
   ]
  },
  {
   "cell_type": "markdown",
   "metadata": {},
   "source": [
    "Here we sort data by annotator id, where the annotators who annotated most are sorted first."
   ]
  },
  {
   "cell_type": "code",
   "execution_count": 10,
   "metadata": {},
   "outputs": [],
   "source": [
    "# # filtering the data to the top annotators\n",
    "# # first get the number of times an annotator annotated a comment\n",
    "# annotator_ids_annotated = {} # in format {annotator_id: #times annotated}\n",
    "# for instance in tqdm(dataset['train']):\n",
    "#     if instance['annotator_id'] not in annotator_ids_annotated:\n",
    "#         annotator_ids_annotated[instance['annotator_id']] = 0\n",
    "#     annotator_ids_annotated[instance['annotator_id']] += 1\n",
    "# # then sort the comments in reverse order\n",
    "# sorted_annotator_ids = sorted(annotator_ids_annotated.items(), key=lambda item: item[1], reverse=True)"
   ]
  },
  {
   "cell_type": "code",
   "execution_count": 11,
   "metadata": {},
   "outputs": [],
   "source": [
    "# from comment_annotator_ids import annotator_ids_annotated"
   ]
  },
  {
   "cell_type": "markdown",
   "metadata": {},
   "source": [
    "If we wanted the top 50 annotators"
   ]
  },
  {
   "cell_type": "code",
   "execution_count": 12,
   "metadata": {},
   "outputs": [],
   "source": [
    "# then get just the annotator_ids of the top 50 annotated comments\n",
    "# top_annotator_50 = []\n",
    "# for i in range(50):\n",
    "#     top_annotator_50.append(sorted_annotator_ids[i][0])\n",
    "\n",
    "# previous part was already calculated and these are the top annotator_ids\n",
    "# top_annotator_50 = [9563, 3887, 8382, 5525, 8565, 1410, 9202, 4521, 6098, 9955, 8134, 10262, 69, 4791, 4997, 11111, 6321, 3175, 1873, 8276, 6050, 1329, 4047, 7160, 1671, 2553, 1081, 3581, 1826, 266, 6403, 8818, 2471, 10561, 7774, 7660, 10525, 1847, 5144, 9848, 5707, 9178, 3483, 4962, 4431, 3922, 10648, 8832, 1318, 10111]\n",
    "# top50_dataset = dataset.filter(lambda instance: instance['comment_id'] in top_annotated_50)\n",
    "# original dataset has 135556 instances and filtered dataset has 35935 instances"
   ]
  },
  {
   "cell_type": "markdown",
   "metadata": {},
   "source": [
    "Let's say we only want instances where the comments have 5-10 labels and with annotators who have annotated more than 20 instances."
   ]
  },
  {
   "cell_type": "code",
   "execution_count": 13,
   "metadata": {},
   "outputs": [],
   "source": [
    "# we first get all annotator ids where they have annotated more than 20 comments\n",
    "# annotator_ids_20 = [k for k, v in annotator_ids_annotated.items() if v > 19] # this leaves us with 2316 annotators"
   ]
  },
  {
   "cell_type": "code",
   "execution_count": 14,
   "metadata": {},
   "outputs": [],
   "source": [
    "# # we can then add comments up to 10 times if they have an annotator in the previous list\n",
    "# times_comment_added = {} # in {comment_id: times_added} format\n",
    "# comments_up_to_10 = [] # adding in all the comments with the right annotator, up to 10 comments\n",
    "# for instance in tqdm(dataset['train']):\n",
    "#     if instance['annotator_id'] in annotator_ids_20:\n",
    "#         if instance['comment_id'] not in times_comment_added:\n",
    "#             times_comment_added[instance['comment_id']] = 0\n",
    "#         if times_comment_added[instance['comment_id']] < 11:\n",
    "#             times_comment_added[instance['comment_id']] += 1\n",
    "#             comments_up_to_10.append((instance['comment_id'], instance['annotator_id']))"
   ]
  },
  {
   "cell_type": "code",
   "execution_count": 15,
   "metadata": {},
   "outputs": [],
   "source": [
    "# # we can then remove all the comments that have less than 5 labels\n",
    "# filtered_comment_annotator_id = []\n",
    "# for c_id, a_id in comments_up_to_10:\n",
    "#     if times_comment_added[c_id] > 4:\n",
    "#         filtered_comment_annotator_id.append((c_id, a_id))\n",
    "# # we are then left with 785 instances"
   ]
  },
  {
   "cell_type": "markdown",
   "metadata": {},
   "source": [
    "We can use just a few examples for the LLM."
   ]
  },
  {
   "cell_type": "code",
   "execution_count": 16,
   "metadata": {},
   "outputs": [],
   "source": [
    "# we first get all annotator ids where they have annotated more than 25 comments\n",
    "# annotator_ids_26 = [k for k, v in annotator_ids_annotated.items() if v > 25] # this leaves us with 21 annotators"
   ]
  },
  {
   "cell_type": "code",
   "execution_count": 17,
   "metadata": {},
   "outputs": [],
   "source": [
    "# # we can then add comments up to 10 times if they have an annotator in the previous list\n",
    "# times_comment_added = {} # in {comment_id: times_added} format\n",
    "# comments_up_to_10 = [] # adding in all the comments with the right annotator, up to 10 comments\n",
    "# for instance in tqdm(dataset['train']):\n",
    "#     if instance['annotator_id'] in annotator_ids_26:\n",
    "#         if instance['comment_id'] not in times_comment_added:\n",
    "#             times_comment_added[instance['comment_id']] = 0\n",
    "#         if times_comment_added[instance['comment_id']] < 11:\n",
    "#             times_comment_added[instance['comment_id']] += 1\n",
    "#             comments_up_to_10.append((instance['comment_id'], instance['annotator_id']))"
   ]
  },
  {
   "cell_type": "code",
   "execution_count": 18,
   "metadata": {},
   "outputs": [],
   "source": [
    "# # we can then remove all the comments that have less than 5 labels\n",
    "# llm_filtered_comment_annotator_id = []\n",
    "# for c_id, a_id in comments_up_to_10:\n",
    "#     if times_comment_added[c_id] > 4:\n",
    "#         llm_filtered_comment_annotator_id.append((c_id, a_id))\n",
    "# # we are then left with 27 instances"
   ]
  },
  {
   "cell_type": "code",
   "execution_count": 19,
   "metadata": {},
   "outputs": [],
   "source": [
    "from comment_annotator_ids import llm_filtered_comment_annotator_id"
   ]
  },
  {
   "cell_type": "markdown",
   "metadata": {},
   "source": [
    "### 3.5 Dataset filtering"
   ]
  },
  {
   "cell_type": "code",
   "execution_count": 20,
   "metadata": {},
   "outputs": [],
   "source": [
    "from comment_annotator_ids import filtered_comment_annotator_id"
   ]
  },
  {
   "cell_type": "code",
   "execution_count": 21,
   "metadata": {},
   "outputs": [],
   "source": [
    "filtered_dataset = dataset.filter(lambda instance: (instance['comment_id'], instance['annotator_id']) in filtered_comment_annotator_id)\n",
    "# we have 785 filtered instances left"
   ]
  },
  {
   "cell_type": "code",
   "execution_count": 22,
   "metadata": {},
   "outputs": [],
   "source": [
    "unique_comment_ids = list(set([c for c, a in filtered_comment_annotator_id]))\n",
    "unique_annotator_ids = list(set([a for c, a in filtered_comment_annotator_id]))"
   ]
  },
  {
   "cell_type": "code",
   "execution_count": 23,
   "metadata": {},
   "outputs": [],
   "source": [
    "comment_id_to_data = {}\n",
    "for instance in filtered_dataset['train']:\n",
    "    if instance['comment_id'] not in comment_id_to_data.keys():\n",
    "        comment_id_to_data[instance['comment_id']] = {'comment': instance['text']}\n",
    "        for axis in comment_annotations:\n",
    "            comment_id_to_data[instance['comment_id']][axis] = []\n",
    "    for axis in comment_annotations:\n",
    "            comment_id_to_data[instance['comment_id']][axis].append(instance[axis])"
   ]
  },
  {
   "cell_type": "markdown",
   "metadata": {},
   "source": [
    "### 4. Majority Voting"
   ]
  },
  {
   "cell_type": "code",
   "execution_count": 24,
   "metadata": {},
   "outputs": [],
   "source": [
    "axes_results = {}\n",
    "for axis in comment_annotations:\n",
    "    axes_results[axis] = []\n",
    "\n",
    "for id in comment_id_to_data:\n",
    "    results = get_majority_vote(comment_id_to_data[id])\n",
    "    for axis in comment_annotations:\n",
    "        axes_results[axis].append(results[axis])"
   ]
  },
  {
   "cell_type": "code",
   "execution_count": 25,
   "metadata": {},
   "outputs": [
    {
     "data": {
      "text/plain": [
       "(array([33.,  0.,  0.,  0.,  0.,  0.,  0.,  0.,  0.,  0.,  0.,  0.,  0.,\n",
       "         0.,  0.,  0.,  0.,  0.,  0.,  0.,  0.,  0.,  0.,  0.,  0.,  0.,\n",
       "         0.,  0.,  0., 40.]),\n",
       " array([0.        , 0.06666667, 0.13333333, 0.2       , 0.26666667,\n",
       "        0.33333333, 0.4       , 0.46666667, 0.53333333, 0.6       ,\n",
       "        0.66666667, 0.73333333, 0.8       , 0.86666667, 0.93333333,\n",
       "        1.        , 1.06666667, 1.13333333, 1.2       , 1.26666667,\n",
       "        1.33333333, 1.4       , 1.46666667, 1.53333333, 1.6       ,\n",
       "        1.66666667, 1.73333333, 1.8       , 1.86666667, 1.93333333,\n",
       "        2.        ]),\n",
       " <BarContainer object of 30 artists>)"
      ]
     },
     "execution_count": 25,
     "metadata": {},
     "output_type": "execute_result"
    },
    {
     "data": {
      "image/png": "[encoded data removed]",
      "text/plain": [
       "<Figure size 640x480 with 1 Axes>"
      ]
     },
     "metadata": {},
     "output_type": "display_data"
    }
   ],
   "source": [
    "plt.hist(axes_results['hatespeech'], bins=30)"
   ]
  },
  {
   "cell_type": "markdown",
   "metadata": {},
   "source": [
    "### 5. Dawid-Skene"
   ]
  },
  {
   "cell_type": "code",
   "execution_count": 26,
   "metadata": {},
   "outputs": [],
   "source": [
    "ds_format_data = {}\n",
    "for axis in comment_annotations:\n",
    "    ds_format_data[axis] = get_ds_format(filtered_dataset['train'], axis)"
   ]
  },
  {
   "cell_type": "code",
   "execution_count": 27,
   "metadata": {},
   "outputs": [
    {
     "name": "stderr",
     "output_type": "stream",
     "text": [
      "/Users/miriam/Desktop/hitlml-project/dawid_skene.py:228: RuntimeWarning: overflow encountered in divide\n",
      "  error_rates[k,j,:] = error_rates[k,j,:]/float(sum_over_responses)\n"
     ]
    }
   ],
   "source": [
    "dawid_skene_results = {}\n",
    "for axis in comment_annotations:\n",
    "    dawid_skene_results[axis] = run(ds_format_data[axis])"
   ]
  },
  {
   "cell_type": "code",
   "execution_count": 28,
   "metadata": {},
   "outputs": [
    {
     "data": {
      "text/plain": [
       "{28322: array([0., 0., 1., 0., 0.]),\n",
       " 45496: array([0., 0., 0., 1., 0.]),\n",
       " 13827: array([0., 0., 0., 0., 1.]),\n",
       " 20045: array([0., 0., 0., 0., 1.]),\n",
       " 20047: array([0., 0., 0., 0., 1.]),\n",
       " 20070: array([0., 0., 0., 0., 1.]),\n",
       " 20057: array([0., 0., 0., 0., 1.]),\n",
       " 20068: array([0., 0., 0., 0., 1.]),\n",
       " 20001: array([0., 0., 0., 0., 1.]),\n",
       " 20034: array([0., 0., 0., 0., 1.]),\n",
       " 20012: array([0., 0., 0., 0., 1.]),\n",
       " 20002: array([0., 0., 0., 0., 1.]),\n",
       " 20023: array([0., 0., 0., 0., 1.]),\n",
       " 20008: array([0., 0., 0., 0., 1.]),\n",
       " 20007: array([0., 0., 0., 0., 1.]),\n",
       " 20013: array([0., 0., 0., 0., 1.]),\n",
       " 20009: array([0., 0., 0., 0., 1.]),\n",
       " 20006: array([0., 0., 0., 0., 1.]),\n",
       " 20011: array([0., 0., 0., 0., 1.]),\n",
       " 20010: array([0., 0., 0., 0., 1.]),\n",
       " 20004: array([0., 0., 0., 0., 1.]),\n",
       " 20005: array([0., 0., 0., 0., 1.]),\n",
       " 20003: array([0., 0., 0., 0., 1.]),\n",
       " 20015: array([0., 0., 0., 1., 0.]),\n",
       " 20017: array([0.    , 0.    , 0.    , 0.0001, 0.9999]),\n",
       " 20021: array([0., 0., 0., 0., 1.]),\n",
       " 20020: array([0., 0., 0., 0., 1.]),\n",
       " 20019: array([0., 0., 0., 0., 1.]),\n",
       " 20018: array([0., 0., 0., 0., 1.]),\n",
       " 20022: array([0., 0., 0., 0., 1.]),\n",
       " 20024: array([0., 0., 0., 1., 0.]),\n",
       " 20016: array([0., 0., 0., 0., 1.]),\n",
       " 20014: array([0., 0., 0., 0., 1.]),\n",
       " 20029: array([0., 0., 0., 0., 1.]),\n",
       " 20026: array([0.    , 0.    , 0.    , 0.9944, 0.0056]),\n",
       " 20038: array([0., 0., 0., 0., 1.]),\n",
       " 20027: array([0., 0., 0., 0., 1.]),\n",
       " 20028: array([0., 0., 0., 0., 1.]),\n",
       " 20031: array([0., 0., 0., 0., 1.]),\n",
       " 20041: array([0., 0., 0., 1., 0.]),\n",
       " 20043: array([0.    , 0.    , 0.    , 0.2516, 0.7484]),\n",
       " 20040: array([0., 0., 0., 1., 0.]),\n",
       " 20039: array([0., 0., 0., 1., 0.]),\n",
       " 20030: array([0., 0., 0., 0., 1.]),\n",
       " 20032: array([0., 0., 0., 0., 1.]),\n",
       " 20033: array([0., 0., 0., 0., 1.]),\n",
       " 20046: array([0., 0., 0., 1., 0.]),\n",
       " 20035: array([0., 0., 0., 0., 1.]),\n",
       " 20042: array([0., 0., 0., 1., 0.]),\n",
       " 20037: array([0.    , 0.    , 0.    , 0.4336, 0.5664]),\n",
       " 20044: array([0., 0., 0., 1., 0.]),\n",
       " 20036: array([0.    , 0.1927, 0.    , 0.8073, 0.    ]),\n",
       " 20025: array([0.    , 0.    , 0.    , 0.6479, 0.3521]),\n",
       " 20058: array([0.    , 0.    , 0.3973, 0.6027, 0.    ]),\n",
       " 20054: array([0., 0., 1., 0., 0.]),\n",
       " 20050: array([0.    , 0.    , 0.3974, 0.6026, 0.    ]),\n",
       " 20055: array([0., 0., 1., 0., 0.]),\n",
       " 20052: array([0., 0., 1., 0., 0.]),\n",
       " 20053: array([0., 0., 1., 0., 0.]),\n",
       " 20049: array([0., 0., 1., 0., 0.]),\n",
       " 20048: array([0., 1., 0., 0., 0.]),\n",
       " 20056: array([0., 0., 1., 0., 0.]),\n",
       " 20051: array([0., 0., 1., 0., 0.]),\n",
       " 20059: array([0.7155, 0.2845, 0.    , 0.    , 0.    ]),\n",
       " 20062: array([0.7155, 0.2845, 0.    , 0.    , 0.    ]),\n",
       " 20066: array([1., 0., 0., 0., 0.]),\n",
       " 20063: array([1., 0., 0., 0., 0.]),\n",
       " 20069: array([0.7155, 0.2845, 0.    , 0.    , 0.    ]),\n",
       " 20061: array([0.7155, 0.2845, 0.    , 0.    , 0.    ]),\n",
       " 20067: array([1., 0., 0., 0., 0.]),\n",
       " 20065: array([0.7155, 0.2845, 0.    , 0.    , 0.    ]),\n",
       " 20064: array([0.7155, 0.2845, 0.    , 0.    , 0.    ]),\n",
       " 20060: array([0.7155, 0.2845, 0.    , 0.    , 0.    ])}"
      ]
     },
     "execution_count": 28,
     "metadata": {},
     "output_type": "execute_result"
    }
   ],
   "source": [
    "dawid_skene_results['sentiment']"
   ]
  },
  {
   "cell_type": "code",
   "execution_count": 29,
   "metadata": {},
   "outputs": [],
   "source": [
    "ds_axes_results = {}\n",
    "for axis in comment_annotations:\n",
    "    ds_axes_results[axis] = [np.argmax(v) for k, v in dawid_skene_results[axis].items()]"
   ]
  },
  {
   "cell_type": "code",
   "execution_count": 38,
   "metadata": {},
   "outputs": [
    {
     "data": {
      "text/plain": [
       "(array([25.,  0.,  0.,  0.,  0.,  0.,  0., 17.,  0.,  0.,  0.,  0.,  0.,\n",
       "         0.,  0., 10.,  0.,  0.,  0.,  0.,  0.,  0.,  7.,  0.,  0.,  0.,\n",
       "         0.,  0.,  0., 14.]),\n",
       " array([0.    , 0.1333, 0.2667, 0.4   , 0.5333, 0.6667, 0.8   , 0.9333,\n",
       "        1.0667, 1.2   , 1.3333, 1.4667, 1.6   , 1.7333, 1.8667, 2.    ,\n",
       "        2.1333, 2.2667, 2.4   , 2.5333, 2.6667, 2.8   , 2.9333, 3.0667,\n",
       "        3.2   , 3.3333, 3.4667, 3.6   , 3.7333, 3.8667, 4.    ]),\n",
       " <BarContainer object of 30 artists>)"
      ]
     },
     "execution_count": 38,
     "metadata": {},
     "output_type": "execute_result"
    },
    {
     "data": {
      "image/png": "[encoded data removed]",
      "text/plain": [
       "<Figure size 640x480 with 1 Axes>"
      ]
     },
     "metadata": {},
     "output_type": "display_data"
    }
   ],
   "source": [
    "plt.hist(ds_axes_results['violence'], bins=30)"
   ]
  },
  {
   "cell_type": "code",
   "execution_count": 39,
   "metadata": {},
   "outputs": [
    {
     "data": {
      "text/plain": [
       "(array([36.,  0.,  0.,  0.,  0.,  0.,  0., 13.,  0.,  0.,  0.,  0.,  0.,\n",
       "         0.,  0.,  3.,  0.,  0.,  0.,  0.,  0.,  0.,  8.,  0.,  0.,  0.,\n",
       "         0.,  0.,  0., 13.]),\n",
       " array([0.    , 0.1333, 0.2667, 0.4   , 0.5333, 0.6667, 0.8   , 0.9333,\n",
       "        1.0667, 1.2   , 1.3333, 1.4667, 1.6   , 1.7333, 1.8667, 2.    ,\n",
       "        2.1333, 2.2667, 2.4   , 2.5333, 2.6667, 2.8   , 2.9333, 3.0667,\n",
       "        3.2   , 3.3333, 3.4667, 3.6   , 3.7333, 3.8667, 4.    ]),\n",
       " <BarContainer object of 30 artists>)"
      ]
     },
     "execution_count": 39,
     "metadata": {},
     "output_type": "execute_result"
    },
    {
     "data": {
      "image/png": "[encoded data removed]",
      "text/plain": [
       "<Figure size 640x480 with 1 Axes>"
      ]
     },
     "metadata": {},
     "output_type": "display_data"
    }
   ],
   "source": [
    "plt.hist(axes_results['violence'], bins=30)"
   ]
  },
  {
   "cell_type": "markdown",
   "metadata": {},
   "source": [
    "### ???. Testing utils"
   ]
  },
  {
   "cell_type": "code",
   "execution_count": 32,
   "metadata": {},
   "outputs": [],
   "source": [
    "# api_key = open(\"openai_api_key.txt\", 'r').read() # API key needs to be in this txt file\n",
    "# model=\"gpt-4o-mini\"\n",
    "# client = OpenAI(api_key=os.environ.get(\"OPENAI_API_KEY\", api_key))\n",
    "# system = \"You are a quiet AI assistant. You respond in very few words.\"\n",
    "# user_list = [\"How is your day going?\", \"Are you a fan of green tea?\", \"Do you know anything about St Paul, MN.\"]\n",
    "# responses = openai_iter_generation(client, model, system, user_list)\n",
    "# responses"
   ]
  },
  {
   "cell_type": "code",
   "execution_count": 33,
   "metadata": {},
   "outputs": [],
   "source": [
    "# data_instance = filtered_dataset['train'][7]"
   ]
  },
  {
   "cell_type": "code",
   "execution_count": 34,
   "metadata": {},
   "outputs": [],
   "source": [
    "# axes = ['gender', 'race', 'income', 'educ', 'ideology', 'age', 'sexuality', 'trans', 'religion']\n",
    "# get_demographic_system_prompt(data_instance, axes)"
   ]
  },
  {
   "cell_type": "code",
   "execution_count": 1,
   "metadata": {},
   "outputs": [],
   "source": [
    "from comment_annotator_ids import filtered_comment_annotator_id, llm_filtered_comment_annotator_id"
   ]
  },
  {
   "cell_type": "code",
   "execution_count": 2,
   "metadata": {},
   "outputs": [],
   "source": [
    "unique_comment_ids = list(set([c for c, a in filtered_comment_annotator_id]))\n",
    "unique_annotator_ids = list(set([a for c, a in filtered_comment_annotator_id]))"
   ]
  },
  {
   "cell_type": "code",
   "execution_count": null,
   "metadata": {},
   "outputs": [],
   "source": [
    "llm_unique_comment_ids = list(set([c for c, a in llm_filtered_comment_annotator_id]))\n",
    "llm_unique_annotator_ids = list(set([a for c, a in llm_filtered_comment_annotator_id]))"
   ]
  },
  {
   "cell_type": "code",
   "execution_count": 5,
   "metadata": {},
   "outputs": [
    {
     "name": "stdout",
     "output_type": "stream",
     "text": [
      "785\n",
      "73\n",
      "232\n"
     ]
    }
   ],
   "source": [
    "print(len(filtered_comment_annotator_id))\n",
    "print(len(unique_comment_ids))\n",
    "print(len(unique_annotator_ids))"
   ]
  },
  {
   "cell_type": "code",
   "execution_count": null,
   "metadata": {},
   "outputs": [],
   "source": [
    "print(len(llm_filtered_comment_annotator_id))\n",
    "print(len(llm_unique_comment_ids))\n",
    "print(len(llm_unique_annotator_ids))"
   ]
  }
 ],
 "metadata": {
  "kernelspec": {
   "display_name": "base",
   "language": "python",
   "name": "python3"
  },
  "language_info": {
   "codemirror_mode": {
    "name": "ipython",
    "version": 3
   },
   "file_extension": ".py",
   "mimetype": "text/x-python",
   "name": "python",
   "nbconvert_exporter": "python",
   "pygments_lexer": "ipython3",
   "version": "3.11.4"
  }
 },
 "nbformat": 4,
 "nbformat_minor": 2
}
